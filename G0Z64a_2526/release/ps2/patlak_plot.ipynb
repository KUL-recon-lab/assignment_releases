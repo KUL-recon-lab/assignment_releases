{
 "cells": [
  {
   "cell_type": "markdown",
   "id": "2f6a62dc",
   "metadata": {},
   "source": [
    "Before you turn this problem in, make sure everything runs as expected. First, **restart the kernel** (in the menubar, select Kernel $\\rightarrow$ Restart) and then **run all cells** (in the menubar, select Cell $\\rightarrow$ Run All).\n",
    "\n",
    "Make sure you fill in any place that says `YOUR CODE HERE` or \"YOUR ANSWER HERE\", as well as your name, r-number, collaborators, and the generative AI statement below:"
   ]
  },
  {
   "cell_type": "code",
   "execution_count": null,
   "id": "a0769635",
   "metadata": {},
   "outputs": [],
   "source": [
    "# fill in your name, r-number, and collaborators (if any)\n",
    "NAME = \"\"\n",
    "r_number=\"\"\n",
    "COLLABORATORS = \"\"\n",
    "\n",
    "# gen-AI (LLM) statement. In case large language models (generative AI systems such as chatGPT, co-pilot, ...) were used to complete this notebook, \n",
    "# fill in which models were used and what for\n",
    "gen_AI_statement = \"\""
   ]
  },
  {
   "cell_type": "markdown",
   "id": "2d6ffa99",
   "metadata": {},
   "source": [
    "---"
   ]
  },
  {
   "cell_type": "markdown",
   "id": "dabc9cca",
   "metadata": {
    "deletable": false,
    "editable": false,
    "nbgrader": {
     "cell_type": "markdown",
     "checksum": "9d616ef9d5cfee124a6f7cfaaa8fd99c",
     "grade": false,
     "grade_id": "cell-5ad5fa225ea2a25f",
     "locked": true,
     "schema_version": 3,
     "solution": false,
     "task": false
    }
   },
   "source": [
    "\n",
    "## Hands‑on Patlak Plot — Motivation & Roadmap\n",
    "\n",
    "**Goal.** In this notebook you will implement a Patlak plot to estimate the **influx rate constant** \n",
    "\n",
    "$$K_i = \\frac{K_1 k_3}{k_2 + k_3}$$\n",
    "\n",
    "using the irreversible 2-tissue compartment (**FDG**) model.\n",
    "\n",
    "You will:\n",
    "1) compute the Patlak x‑axis (the streched Patlak time $\\tilde{t}$) from the arterial input function (AIF),  \n",
    "2) compute the Patlak y‑axis $C_T(t) / C_A(t)$,  \n",
    "3) estimate **slope =** $K_i$ and **intercept** from the Patlak plot using linear regression.\n",
    "\n",
    "**Why this matters for Medical Physicists:** \n",
    "Patlak analysis turns a dynamic PET time series into a simple **linear fit (regression)** that is robust, easy and fast. \n",
    "The new influx rate constant $K_i$ is closely related to glucose metabolic rate of a given tissue.\n"
   ]
  },
  {
   "cell_type": "markdown",
   "id": "dfe2e354",
   "metadata": {
    "deletable": false,
    "editable": false,
    "nbgrader": {
     "cell_type": "markdown",
     "checksum": "9b408013c0cfd5b6d0b4c19ba1978841",
     "grade": false,
     "grade_id": "cell-2d9b4855c4681a16",
     "locked": true,
     "schema_version": 3,
     "solution": false,
     "task": false
    }
   },
   "source": [
    "\n",
    "## Recap Patlak Plot\n",
    "\n",
    "The Patlak plot is a plot of\n",
    "\n",
    "$$\n",
    "\\underbrace{\\frac{C_T(t)}{C_A(t)}}_{\\text{y-axis: tissue to arterial blood ratio}}\n",
    "\\quad \\text{vs} \\quad\n",
    "\\underbrace{\\frac{\\int_0^t C_A(t^\\prime)\\, dt^\\prime}{C_A(t)}}_{\\text{x-axis: \"streched Patlak time\"}}\n",
    "$$\n",
    "\n",
    "where $C_A(t)$ is arterial input function (the tracer concentration in arterial blood), $C_T(t)$ tissue time–activity curve (TAC) which is the sum of the 1st and 2nd tissue compartment (see lecture).\n",
    "\n",
    "At **\"late\" times** when the change in the arterial input function os \"slow\" (in our examples here after 18min), the irreversible 2-tissue compartment model becomes\n",
    "$$\n",
    "\\underbrace{\\frac{C_T(t)}{C_A(t)}}_{y(t)} \\approx K_i \\,\\underbrace{\\frac{\\int_0^t C_A(t^\\prime)\\, dt^\\prime}{C_A(t)}}_{\\tilde{t}(t)} \\;+\\; V_0\n",
    "$$\n",
    "where we see that the slope of the plot equal $K_i$.\n",
    "\n"
   ]
  },
  {
   "cell_type": "markdown",
   "id": "c89665c3-75d7-4d18-b0bb-414a9497c503",
   "metadata": {
    "deletable": false,
    "editable": false,
    "nbgrader": {
     "cell_type": "markdown",
     "checksum": "3092e7f35f4ead23a3c442a1cfac2483",
     "grade": false,
     "grade_id": "cell-04594085eac62eb9",
     "locked": true,
     "schema_version": 3,
     "solution": false,
     "task": false
    }
   },
   "source": [
    "## What we will do in this notebook\n",
    "\n",
    "In this notebook, we will load and visualize 4 pairs of simulated pairs of arterial input function $C_A$ and $C_T$. For each data set, we will do a Patlak plot and extract $K_i$ as the slope at late times."
   ]
  },
  {
   "cell_type": "code",
   "execution_count": null,
   "id": "4a6123f4",
   "metadata": {
    "deletable": false,
    "editable": false,
    "nbgrader": {
     "cell_type": "code",
     "checksum": "06856f9c18cb48a801e83c1fd7f622f6",
     "grade": false,
     "grade_id": "cell-3c325cea2abb84b2",
     "locked": true,
     "schema_version": 3,
     "solution": false,
     "task": false
    }
   },
   "outputs": [],
   "source": [
    "import numpy as np\n",
    "import matplotlib.pyplot as plt\n",
    "\n",
    "from scipy.integrate import cumulative_trapezoid\n",
    "from scipy.stats import linregress"
   ]
  },
  {
   "cell_type": "markdown",
   "id": "54c245cb-d209-45fe-8102-59ba0f133380",
   "metadata": {
    "deletable": false,
    "editable": false,
    "nbgrader": {
     "cell_type": "markdown",
     "checksum": "c87c3e5870a906dee1701e238a7ba722",
     "grade": false,
     "grade_id": "cell-e8a6bf8411f15dd2",
     "locked": true,
     "schema_version": 3,
     "solution": false,
     "task": false
    }
   },
   "source": [
    "Load 4 pairs of simulated simulated pairs of arterial input function $C_A$ and $C_T$. All data sets contain **34 measurements** of $C_A$ and $C_T$ at discrete time points. We call a set of measurement at a fixed time point **frame**. Not that the spacing of the time points is non-uniform and that when we start counting at 0, we have frames 0, 1, 2, ... 34."
   ]
  },
  {
   "cell_type": "code",
   "execution_count": null,
   "id": "1b30a71f",
   "metadata": {
    "deletable": false,
    "editable": false,
    "nbgrader": {
     "cell_type": "code",
     "checksum": "6c5d7bbd2d36482fba3b325b7655b1a3",
     "grade": false,
     "grade_id": "cell-686172ff3128df0d",
     "locked": true,
     "schema_version": 3,
     "solution": false,
     "task": false
    }
   },
   "outputs": [],
   "source": [
    "# load the time, arterial input function (CA) and the tissue concentration (CT) from files\n",
    "# in all cases, t is the time of the measurement, CA, is the arterial tracer concentration, and CT is the tissue tracer concentration \n",
    "\n",
    "data1 = np.loadtxt(\"data_01.txt\")\n",
    "t1, CA1, CT1 = data1[:, 0], data1[:, 1], data1[:, 2]\n",
    "\n",
    "data2 = np.loadtxt(\"data_02.txt\")\n",
    "t2, CA2, CT2 = data2[:, 0], data2[:, 1], data2[:, 2]\n",
    "\n",
    "data3 = np.loadtxt(\"data_03.txt\")\n",
    "t3, CA3, CT3 = data3[:, 0], data3[:, 1], data3[:, 2]\n",
    "\n",
    "data4 = np.loadtxt(\"data_04.txt\")\n",
    "t4, CA4, CT4 = data4[:, 0], data4[:, 1], data4[:, 2]\n",
    "\n",
    "print(\"first data set\")\n",
    "for i in range(t1.shape[0]):\n",
    "    print(f\"frame: {i:02}, frame time (min): {t1[i]:8.3f}, CA: {CA1[i]:8.5f}, CT: {CT1[i]:8.5f}\")\n"
   ]
  },
  {
   "cell_type": "markdown",
   "id": "3672b4f6-a43c-4b8f-bb0d-aff8309e28d3",
   "metadata": {
    "deletable": false,
    "editable": false,
    "nbgrader": {
     "cell_type": "markdown",
     "checksum": "cb45c9214204c92855e1b94e7accf6f0",
     "grade": false,
     "grade_id": "cell-322f340b1f7a70d2",
     "locked": true,
     "schema_version": 3,
     "solution": false,
     "task": false
    }
   },
   "source": [
    "Plot the arterial and tissue concentrations over time for all 4 data sets"
   ]
  },
  {
   "cell_type": "code",
   "execution_count": null,
   "id": "722c4bae",
   "metadata": {
    "deletable": false,
    "editable": false,
    "nbgrader": {
     "cell_type": "code",
     "checksum": "5a956ce919612985e6b0c50aa0a6df6d",
     "grade": false,
     "grade_id": "cell-38d7e4ef2f664c1a",
     "locked": true,
     "schema_version": 3,
     "solution": false,
     "task": false
    }
   },
   "outputs": [],
   "source": [
    "# plot time activity curves\n",
    "fig, ax = plt.subplots(1, 4, figsize=(12, 4), layout='constrained')\n",
    "ax[0].plot(t1, CA1, '.-', label=\"arterial input CA1\")\n",
    "ax[0].plot(t1, CT1, '.-', label=\"tissue concentration CT1\")\n",
    "ax[0].set_xlabel(\"Time (min)\")\n",
    "ax[0].set_ylabel(\"activity concentration\")\n",
    "ax[0].legend()\n",
    "ax[1].plot(t2, CA2, '.-', label=\"arterial input CA2\")\n",
    "ax[1].plot(t2, CT2, '.-', label=\"tissue concentration CT2\")\n",
    "ax[1].set_xlabel(\"Time (min)\")\n",
    "ax[1].legend()\n",
    "ax[2].plot(t3, CA3, '.-', label=\"arterial input CA3\")\n",
    "ax[2].plot(t3, CT3, '.-', label=\"tissue concentration CT3\")\n",
    "ax[2].set_xlabel(\"Time (min)\")\n",
    "ax[2].legend()\n",
    "ax[3].plot(t4, CA4, '.-', label=\"arterial input CA4\")\n",
    "ax[3].plot(t4, CT4, '.-', label=\"tissue concentration CT4\")\n",
    "ax[3].set_xlabel(\"Time (min)\")\n",
    "ax[3].legend()\n",
    "\n",
    "for axx in ax:\n",
    "    axx.grid(ls = ':')\n",
    "    axx.set_ylim(0, 0.085)\n"
   ]
  },
  {
   "cell_type": "markdown",
   "id": "f7c05986",
   "metadata": {
    "deletable": false,
    "editable": false,
    "nbgrader": {
     "cell_type": "markdown",
     "checksum": "d41622229a6df0db727db20ac4957612",
     "grade": false,
     "grade_id": "cell-3896f1f6975b75a0",
     "locked": true,
     "schema_version": 3,
     "solution": false,
     "task": false
    }
   },
   "source": [
    "## Part 1: Calculation of the Patlak time\n",
    "\n",
    "In order to make the Patlk plot, we first have to calculate\n",
    "the \"streched\" Patlak time (the horizontal axis in the Patlak plot) given by the formula:\n",
    "$$\n",
    "\\tilde{t}(t,C_a) = \\frac{\\int_0^t C_A(t^\\prime) dt^\\prime}{C_A(t)}\n",
    "$$\n",
    "\n",
    "In the following cell, **you have to implement** a function that calculates the streched Patlak time \n",
    "given a discrete time series of sampled arterial input function $C_A(t_i)$ values. \n",
    "\n",
    "```python"
   ]
  },
  {
   "cell_type": "code",
   "execution_count": null,
   "id": "aabe2716",
   "metadata": {
    "deletable": false,
    "nbgrader": {
     "cell_type": "code",
     "checksum": "80963b72734ac1c880caf429b6ee8216",
     "grade": false,
     "grade_id": "cell-7644f5fe5b084c95",
     "locked": false,
     "schema_version": 3,
     "solution": true,
     "task": false
    }
   },
   "outputs": [],
   "source": [
    "def patlak_time(t: np.ndarray, CA: np.ndarray) -> np.ndarray:\n",
    "    \"\"\"Patlak time based on discretized input arrays t (time) and CA (arterial input function)\n",
    "\n",
    "    Parameters\n",
    "    ----------\n",
    "    t : np.ndarray\n",
    "        discrete time points of the measurements\n",
    "    CA : np.ndarray\n",
    "        arterial input function values at time points t\n",
    "\n",
    "    Returns\n",
    "    -------\n",
    "    np.ndarray\n",
    "        patlak time values at time points t\n",
    "    \"\"\"\n",
    "\n",
    "    # return a 1D numpy array containing the streched Patlak time for all 34 time frames\n",
    "    # make sure that the Patlak time of frame 0 (which has time 0) is 0\n",
    "    # for the numerical integration of CA(t), use scipy.integrate's cumulative_trapezoid (imported above)\n",
    "    # see https://docs.scipy.org/doc/scipy/reference/generated/scipy.integrate.cumulative_trapezoid.html\n",
    "    \n",
    "    # YOUR CODE HERE\n",
    "    raise NotImplementedError()"
   ]
  },
  {
   "cell_type": "markdown",
   "id": "d43df807-7df7-4937-8eab-7cbab8b44e6d",
   "metadata": {
    "deletable": false,
    "editable": false,
    "nbgrader": {
     "cell_type": "markdown",
     "checksum": "71c905baccbed33c79a3be20ec7584b2",
     "grade": false,
     "grade_id": "cell-e6ca79352778914e",
     "locked": true,
     "schema_version": 3,
     "solution": false,
     "task": false
    }
   },
   "source": [
    "Given your implemented function, we now calculate the 1D arrays containing the Patlak times for all 4 data sets."
   ]
  },
  {
   "cell_type": "code",
   "execution_count": null,
   "id": "62884fc7",
   "metadata": {
    "deletable": false,
    "editable": false,
    "nbgrader": {
     "cell_type": "code",
     "checksum": "7c8eb6e76ca11f698de883abdb2d8f9d",
     "grade": false,
     "grade_id": "cell-d8646ed982fae877",
     "locked": true,
     "schema_version": 3,
     "solution": false,
     "task": false
    }
   },
   "outputs": [],
   "source": [
    "t_patlak1 = patlak_time(t1, CA1)\n",
    "t_patlak2 = patlak_time(t2, CA2)\n",
    "t_patlak3 = patlak_time(t3, CA3)\n",
    "t_patlak4 = patlak_time(t4, CA4)"
   ]
  },
  {
   "cell_type": "code",
   "execution_count": null,
   "id": "205f4430-b095-4f12-b8fb-5d22d090f3ba",
   "metadata": {
    "deletable": false,
    "editable": false,
    "nbgrader": {
     "cell_type": "code",
     "checksum": "20927dbb3b8fd63529f601d988b13c05",
     "grade": true,
     "grade_id": "cell-f2259267781d236a",
     "locked": true,
     "points": 2,
     "schema_version": 3,
     "solution": false,
     "task": false
    }
   },
   "outputs": [],
   "source": []
  },
  {
   "cell_type": "markdown",
   "id": "1e1bc80e-a0c2-4812-8fd1-43e27b361bde",
   "metadata": {
    "deletable": false,
    "editable": false,
    "nbgrader": {
     "cell_type": "markdown",
     "checksum": "52b1bd8df8d924823575b4ea510c1206",
     "grade": false,
     "grade_id": "cell-18391c2b52d23c71",
     "locked": true,
     "schema_version": 3,
     "solution": false,
     "task": false
    }
   },
   "source": [
    "We also calculate the 1D vectors containing the y values of the Patlak plot. This is a simple elementwise division of $C_T$ by $C_A$."
   ]
  },
  {
   "cell_type": "code",
   "execution_count": null,
   "id": "3a87e451",
   "metadata": {
    "deletable": false,
    "editable": false,
    "nbgrader": {
     "cell_type": "code",
     "checksum": "d02c55af53f4463086b3d0a2ac27ec6b",
     "grade": false,
     "grade_id": "cell-22faaf1c6fa31da4",
     "locked": true,
     "schema_version": 3,
     "solution": false,
     "task": false
    }
   },
   "outputs": [],
   "source": [
    "# instead of simply calculating y_patlak1 = CT1/CA1, we use np.divide to make sure \n",
    "# the case CT=0/CA=0 for the first (0) frame is handled correctly, in this case y should be 0.\n",
    "y_patlak1 = np.divide(CT1, CA1, where=CA1 != 0, out=np.zeros_like(CA1))\n",
    "y_patlak2 = np.divide(CT2, CA2, where=CA2 != 0, out=np.zeros_like(CA2))\n",
    "y_patlak3 = np.divide(CT3, CA3, where=CA3 != 0, out=np.zeros_like(CA3))\n",
    "y_patlak4 = np.divide(CT4, CA4, where=CA4 != 0, out=np.zeros_like(CA4))"
   ]
  },
  {
   "cell_type": "markdown",
   "id": "7fb0a377",
   "metadata": {
    "deletable": false,
    "editable": false,
    "nbgrader": {
     "cell_type": "markdown",
     "checksum": "14fc2b89c34f8f51d3f1ed2d78b2195f",
     "grade": false,
     "grade_id": "cell-7c4e967b75a09679",
     "locked": true,
     "schema_version": 3,
     "solution": false,
     "task": false
    }
   },
   "source": [
    "The **linearized Patlak equation**\n",
    "is **only valid for \"late\" times**, when the changes in the input function are slow compared to the exchange between plasma and tissue.\n",
    "In our examples this is the case for times larger than approximately 18 minutes.\n",
    "\n",
    "In the following cell we determine the frame number corresponding to the first frame that starts after 18 minutes.\n",
    "Since all data sets in this notebook use the same time points, we should the same results for all data sets."
   ]
  },
  {
   "cell_type": "code",
   "execution_count": null,
   "id": "177b033c",
   "metadata": {
    "deletable": false,
    "editable": false,
    "nbgrader": {
     "cell_type": "code",
     "checksum": "831befc1a99aaba291141d0549342cda",
     "grade": false,
     "grade_id": "cell-85381ac92305f33f",
     "locked": true,
     "schema_version": 3,
     "solution": false,
     "task": false
    }
   },
   "outputs": [],
   "source": [
    "tstart_patlak = 18.0 # \"late\" time after which patlak plot becomes linear\n",
    "patlak_start_frame_1 = int(np.searchsorted(t_patlak1, tstart_patlak))\n",
    "patlak_start_frame_2 = int(np.searchsorted(t_patlak2, tstart_patlak))\n",
    "patlak_start_frame_3 = int(np.searchsorted(t_patlak3, tstart_patlak))\n",
    "patlak_start_frame_4 = int(np.searchsorted(t_patlak4, tstart_patlak))\n",
    "\n",
    "print(f\"First frame after which linearized Patlak equation is valid for data set 1: {patlak_start_frame_1}\")\n",
    "print(f\"First frame after which linearized Patlak equation is valid for data set 2: {patlak_start_frame_2}\")\n",
    "print(f\"First frame after which linearized Patlak equation is valid for data set 3: {patlak_start_frame_3}\")\n",
    "print(f\"First frame after which linearized Patlak equation is valid for data set 4: {patlak_start_frame_4}\")"
   ]
  },
  {
   "cell_type": "code",
   "execution_count": null,
   "id": "9531ddc3",
   "metadata": {
    "deletable": false,
    "editable": false,
    "nbgrader": {
     "cell_type": "code",
     "checksum": "a49b34df97b13037a00e1d1d347b2dae",
     "grade": false,
     "grade_id": "cell-1ca537019ca94727",
     "locked": true,
     "schema_version": 3,
     "solution": false,
     "task": false
    }
   },
   "outputs": [],
   "source": [
    "fig2, ax2 = plt.subplots(1, 4, figsize=(12, 4), layout='constrained')\n",
    "ax2[0].plot(t_patlak1, y_patlak1, '.-')\n",
    "ax2[0].plot(t_patlak1[patlak_start_frame_1:], y_patlak1[patlak_start_frame_1:], '.')\n",
    "ax2[0].set_ylabel(\"Patlak y = CT / CA\")\n",
    "ax2[1].plot(t_patlak2, y_patlak2, '.-')\n",
    "ax2[1].plot(t_patlak2[patlak_start_frame_2:], y_patlak2[patlak_start_frame_2:], '.')\n",
    "ax2[2].plot(t_patlak3, y_patlak3, '.-')\n",
    "ax2[2].plot(t_patlak3[patlak_start_frame_3:], y_patlak3[patlak_start_frame_3:], '.')\n",
    "ax2[3].plot(t_patlak4, y_patlak4, '.-')\n",
    "ax2[3].plot(t_patlak4[patlak_start_frame_4:], y_patlak4[patlak_start_frame_4:], '.')\n",
    "for axx in ax2:\n",
    "    axx.grid(ls = ':')\n",
    "    axx.set_xlabel(\"Patlak time (min)\")\n",
    "    axx.set_aspect(45, adjustable='box') # we make sure that the x/y ratio is the same across all plots to compare slopes"
   ]
  },
  {
   "cell_type": "markdown",
   "id": "ac4435b4",
   "metadata": {
    "deletable": false,
    "editable": false,
    "nbgrader": {
     "cell_type": "markdown",
     "checksum": "9d096a7605db35558dbd1aeeab0de57b",
     "grade": false,
     "grade_id": "cell-f24dd1b1d82f1ae2",
     "locked": true,
     "schema_version": 3,
     "solution": false,
     "task": false
    }
   },
   "source": [
    "## Part 2: Linear regression of Patlak transformed data to estimate $K_i$\n",
    "\n",
    "Given the calculated Patlak times and the Patlak \"y values\", you will now implement a linear regression that determine the slope ($K_i$) and the intercept in the linear part of the Patlak plot."
   ]
  },
  {
   "cell_type": "code",
   "execution_count": null,
   "id": "cd1e3852",
   "metadata": {
    "deletable": false,
    "nbgrader": {
     "cell_type": "code",
     "checksum": "7f382c57d605c1a424ef5006065b9ed7",
     "grade": false,
     "grade_id": "cell-828e0d9aa280e159",
     "locked": false,
     "schema_version": 3,
     "solution": true,
     "task": false
    }
   },
   "outputs": [],
   "source": [
    "def patlak_regression(t_patlak: np.ndarray, y_patlak: np.ndarray, start_frame: int) -> tuple[float, float]:\n",
    "    \"\"\"Perform linear regression on Patlak transformed data to estimate Ki and V0\n",
    "\n",
    "    Parameters\n",
    "    ----------\n",
    "    t_patlak : np.ndarray\n",
    "        Patlak time values (x-axis values on the plot)\n",
    "    y_patlak : np.ndarray (y-axis values on the plot)\n",
    "        Patlak y values\n",
    "    start_frame : int\n",
    "        start frame after which to perform the linear regression\n",
    "\n",
    "    Returns\n",
    "    -------\n",
    "    Ki : float\n",
    "        estimated influx rate constant equal to K1*k3/(k2+k3)\n",
    "    V0 : float\n",
    "        intercept of the Patlak plot (apparent volume of distribution)\n",
    "    \"\"\"\n",
    "\n",
    "    # perform linear regression using linregress scipy.stats (already imported above)\n",
    "    # read the documentation at https://docs.scipy.org/doc/scipy/reference/generated/scipy.stats.linregress.html\n",
    "    # make sure to include the time frames starting from \"start_frame\" (where the Patlak plot is linear)\n",
    "    # meaning that we want we want to do the regression of y_patlak[start_frame:] vs t_patlak[start_frame:]\n",
    "\n",
    "    # YOUR CODE HERE\n",
    "    raise NotImplementedError()"
   ]
  },
  {
   "cell_type": "markdown",
   "id": "2ada31ff-faa7-44ab-87ce-38e80297677f",
   "metadata": {
    "deletable": false,
    "editable": false,
    "nbgrader": {
     "cell_type": "markdown",
     "checksum": "594edd97d00b421ba8d41924af4e165b",
     "grade": false,
     "grade_id": "cell-3c43e066c3853920",
     "locked": true,
     "schema_version": 3,
     "solution": false,
     "task": false
    }
   },
   "source": [
    "Given the implemented Patlak regression function, we cacluate the slope ($K_i$) and intercept values for all 4 data sets."
   ]
  },
  {
   "cell_type": "code",
   "execution_count": null,
   "id": "32d00476",
   "metadata": {
    "deletable": false,
    "editable": false,
    "nbgrader": {
     "cell_type": "code",
     "checksum": "2a02e2d518de7be76196b4fd5ba7f917",
     "grade": false,
     "grade_id": "cell-355fe5371080f430",
     "locked": true,
     "schema_version": 3,
     "solution": false,
     "task": false
    }
   },
   "outputs": [],
   "source": [
    "Ki1, intercept1 = patlak_regression(t_patlak1, y_patlak1, patlak_start_frame_1)\n",
    "Ki2, intercept2 = patlak_regression(t_patlak2, y_patlak2, patlak_start_frame_2)\n",
    "Ki3, intercept3 = patlak_regression(t_patlak3, y_patlak3, patlak_start_frame_3)\n",
    "Ki4, intercept4 = patlak_regression(t_patlak4, y_patlak4, patlak_start_frame_4)\n",
    "\n",
    "print(f\"Estimated Ki values from Patlak plots:\")\n",
    "print(f\"Data set 1: Ki = {Ki1:.4f}, intercept = {intercept1:.4f}\")\n",
    "print(f\"Data set 2: Ki = {Ki2:.4f}, intercept = {intercept2:.4f}\")\n",
    "print(f\"Data set 3: Ki = {Ki3:.4f}, intercept = {intercept3:.4f}\")\n",
    "print(f\"Data set 4: Ki = {Ki4:.4f}, intercept = {intercept4:.4f}\")"
   ]
  },
  {
   "cell_type": "code",
   "execution_count": null,
   "id": "bf68f4a4-cc83-4b6e-99e8-058cf542d68b",
   "metadata": {
    "deletable": false,
    "editable": false,
    "nbgrader": {
     "cell_type": "code",
     "checksum": "e5db743c7ec3b4e2ca6a309ebe6554b3",
     "grade": true,
     "grade_id": "cell-2ea37c4ff98baa90",
     "locked": true,
     "points": 2,
     "schema_version": 3,
     "solution": false,
     "task": false
    }
   },
   "outputs": [],
   "source": []
  },
  {
   "cell_type": "markdown",
   "id": "cadcd44c-9ddc-4fd2-bd30-7636c0320203",
   "metadata": {
    "deletable": false,
    "editable": false,
    "nbgrader": {
     "cell_type": "markdown",
     "checksum": "4186016bd2e0c9bea199baf3615586a4",
     "grade": false,
     "grade_id": "cell-69fe5cc0b16c9759",
     "locked": true,
     "schema_version": 3,
     "solution": false,
     "task": false
    }
   },
   "source": [
    "Last but not least, we add the calculated regression line to the Patlak plots."
   ]
  },
  {
   "cell_type": "code",
   "execution_count": null,
   "id": "504a33fa",
   "metadata": {
    "deletable": false,
    "editable": false,
    "nbgrader": {
     "cell_type": "code",
     "checksum": "4e7b89f0bdff6edee2efe18701fe1e44",
     "grade": false,
     "grade_id": "cell-b20b6223ddd4d2c9",
     "locked": true,
     "schema_version": 3,
     "solution": false,
     "task": false
    }
   },
   "outputs": [],
   "source": [
    "fig3, ax3 = plt.subplots(1, 4, figsize=(12, 4), layout='constrained')\n",
    "ax3[0].plot(t_patlak1, y_patlak1, '.-')\n",
    "ax3[0].plot(t_patlak1[patlak_start_frame_1:], y_patlak1[patlak_start_frame_1:], '.')\n",
    "ax3[0].plot(t_patlak1[patlak_start_frame_1:], Ki1 * t_patlak1[patlak_start_frame_1:] + intercept1, \"--\", color = \"k\")\n",
    "ax3[0].set_ylabel(\"Patlak y = CT / CA\")\n",
    "ax3[1].plot(t_patlak2, y_patlak2, '.-')\n",
    "ax3[1].plot(t_patlak2[patlak_start_frame_2:], y_patlak2[patlak_start_frame_2:], '.')\n",
    "ax3[1].plot(t_patlak2[patlak_start_frame_2:], Ki2 * t_patlak2[patlak_start_frame_2:] + intercept2, \"--\", color = \"k\")\n",
    "ax3[2].plot(t_patlak3, y_patlak3, '.-')\n",
    "ax3[2].plot(t_patlak3[patlak_start_frame_3:], y_patlak3[patlak_start_frame_3:], '.')\n",
    "ax3[2].plot(t_patlak3[patlak_start_frame_3:], Ki3 * t_patlak3[patlak_start_frame_3:] + intercept3, \"--\", color = \"k\")\n",
    "ax3[3].plot(t_patlak4, y_patlak4, '.-')\n",
    "ax3[3].plot(t_patlak4[patlak_start_frame_4:], y_patlak4[patlak_start_frame_4:], '.')\n",
    "ax3[3].plot(t_patlak4[patlak_start_frame_4:], Ki4 * t_patlak4[patlak_start_frame_4:] + intercept4, \"--\", color = \"k\")\n",
    "for axx in ax3:\n",
    "    axx.grid(ls = ':')\n",
    "    axx.set_xlabel(\"Patlak time (min)\")\n",
    "    axx.set_aspect(45, adjustable='box')\n",
    "\n",
    "ax3[0].set_title(f\"data set 1: Ki = {Ki1:.3f}, V0 = {intercept1:.2f}\", fontsize = \"medium\")\n",
    "ax3[1].set_title(f\"data set 2: Ki = {Ki2:.3f}, V0 = {intercept2:.2f}\", fontsize = \"medium\")\n",
    "ax3[2].set_title(f\"data set 3: Ki = {Ki3:.3f}, V0 = {intercept3:.2f}\", fontsize = \"medium\")\n",
    "ax3[3].set_title(f\"data set 4: Ki = {Ki4:.3f}, V0 = {intercept4:.2f}\", fontsize = \"medium\")"
   ]
  }
 ],
 "metadata": {
  "kernelspec": {
   "display_name": "Python 3 (ipykernel)",
   "language": "python",
   "name": "python3"
  },
  "language_info": {
   "codemirror_mode": {
    "name": "ipython",
    "version": 3
   },
   "file_extension": ".py",
   "mimetype": "text/x-python",
   "name": "python",
   "nbconvert_exporter": "python",
   "pygments_lexer": "ipython3",
   "version": "3.13.5"
  }
 },
 "nbformat": 4,
 "nbformat_minor": 5
}
